{
 "cells": [
  {
   "cell_type": "markdown",
   "metadata": {
    "colab_type": "text",
    "id": "Ebk-YqgqEOw1"
   },
   "source": [
    "# Hadoop Streaming assignment 1: Words Rating"
   ]
  },
  {
   "cell_type": "markdown",
   "metadata": {
    "colab_type": "text",
    "id": "XDLjl7hGEOw2"
   },
   "source": [
    "The purpose of this task is to create your own WordCount program for Wikipedia dump processing and learn basic concepts of the MapReduce.\n",
    "\n",
    "In this task you have to find the 7th word by popularity and its quantity in the reverse order (most popular first) in Wikipedia data (`/data/wiki/en_articles_part`).\n",
    "\n",
    "There are several points for this task:\n",
    "\n",
    "1) As an output, you have to get the 7th word and its quantity separated by a tab character.\n",
    "\n",
    "2) You must use the second job to obtain a totally ordered result.\n",
    "\n",
    "3) Do not forget to redirect all trash and output to /dev/null.\n",
    "\n",
    "Here you can find the draft of the task main steps. You can use other methods for solution obtaining."
   ]
  },
  {
   "cell_type": "markdown",
   "metadata": {
    "colab_type": "text",
    "id": "lIUikVIDEOw2"
   },
   "source": [
    "## Step 1. Create mapper and reducer.\n",
    "\n",
    "<b>Hint:</b>  Demo task contains almost all the necessary pieces to complete this assignment. You may use the demo to implement the first MapReduce Job."
   ]
  },
  {
   "cell_type": "code",
   "execution_count": 1,
   "metadata": {
    "colab": {
     "autoexec": {
      "startup": false,
      "wait_interval": 0
     }
    },
    "colab_type": "code",
    "id": "A7T5mxDwEOw4"
   },
   "outputs": [
    {
     "name": "stdout",
     "output_type": "stream",
     "text": [
      "Overwriting mapper1.py\n"
     ]
    }
   ],
   "source": [
    "%%writefile mapper1.py\n",
    "\n",
    "# Your code for mapper here.\n",
    "import sys\n",
    "import re\n",
    "\n",
    "reload(sys)\n",
    "sys.setdefaultencoding('utf-8') # required to convert to unicode\n",
    "\n",
    "for line in sys.stdin:\n",
    "    try:\n",
    "        article_id, text = unicode(line.strip()).split('\\t', 1)\n",
    "    except ValueError as e:\n",
    "        continue\n",
    "    words = re.split(\"\\W*\\s+\\W*\", text, flags=re.UNICODE)\n",
    "    for word in words:\n",
    "        print >> sys.stderr, \"reporter:counter:Wiki stats,Total words,%d\" % 1\n",
    "        print \"%s\\t%d\" % (word.lower(), 1)"
   ]
  },
  {
   "cell_type": "code",
   "execution_count": 2,
   "metadata": {
    "colab": {
     "autoexec": {
      "startup": false,
      "wait_interval": 0
     }
    },
    "colab_type": "code",
    "id": "oE8KFKqpEOw5"
   },
   "outputs": [
    {
     "name": "stdout",
     "output_type": "stream",
     "text": [
      "Overwriting reducer1.py\n"
     ]
    }
   ],
   "source": [
    "%%writefile reducer1.py\n",
    "\n",
    "import sys\n",
    "\n",
    "current_key = None\n",
    "word_sum = 0\n",
    "\n",
    "# Your code for reducer here.\n",
    "for line in sys.stdin:\n",
    "    try:\n",
    "        key, count = line.strip().split('\\t', 1)\n",
    "        count = int(count)\n",
    "    except ValueError as e:\n",
    "        continue\n",
    "    if current_key != key:\n",
    "        if current_key:\n",
    "            print \"%s\\t%d\" % (current_key, word_sum)\n",
    "        word_sum = 0\n",
    "        current_key = key\n",
    "    word_sum += count\n",
    "\n",
    "if current_key:\n",
    "    print \"%s\\t%d\" % (current_key, word_sum)"
   ]
  },
  {
   "cell_type": "code",
   "execution_count": 3,
   "metadata": {
    "colab": {
     "autoexec": {
      "startup": false,
      "wait_interval": 0
     }
    },
    "colab_type": "code",
    "id": "LJtc3_u0uXSz"
   },
   "outputs": [
    {
     "name": "stdout",
     "output_type": "stream",
     "text": [
      "Overwriting debug_data.txt\n"
     ]
    }
   ],
   "source": [
    "%%writefile debug_data.txt\n",
    "1\ta a b c\n",
    "2\tb b a c\n"
   ]
  },
  {
   "cell_type": "markdown",
   "metadata": {
    "colab_type": "text",
    "id": "KYZpcwY9EOw6"
   },
   "source": [
    "## Step 2. Create sort job.\n",
    "\n",
    "<b>Hint:</b> You may use MapReduce comparator to solve this step. Make sure that the keys are sorted in ascending order."
   ]
  },
  {
   "cell_type": "code",
   "execution_count": 4,
   "metadata": {
    "colab": {
     "autoexec": {
      "startup": false,
      "wait_interval": 0
     }
    },
    "colab_type": "code",
    "id": "g-NMzQ79EOw7"
   },
   "outputs": [
    {
     "name": "stdout",
     "output_type": "stream",
     "text": [
      "Overwriting reverse_mapper1.py\n"
     ]
    }
   ],
   "source": [
    "%%writefile reverse_mapper1.py\n",
    "\n",
    "import sys\n",
    "\n",
    "for line in sys.stdin:\n",
    "    try:\n",
    "        word, count = line.strip().split('\\t', 1)\n",
    "        count = int(count)\n",
    "        print(\"{0}\\t{1}\".format(count, word))\n",
    "    except ValueError as e:\n",
    "        continue"
   ]
  },
  {
   "cell_type": "code",
   "execution_count": 5,
   "metadata": {
    "colab": {
     "autoexec": {
      "startup": false,
      "wait_interval": 0
     }
    },
    "colab_type": "code",
    "id": "qs6SKs7wO4be"
   },
   "outputs": [
    {
     "name": "stdout",
     "output_type": "stream",
     "text": [
      "Overwriting reverse_reducer1.py\n"
     ]
    }
   ],
   "source": [
    "%%writefile reverse_reducer1.py\n",
    "\n",
    "import sys\n",
    "\n",
    "for line in sys.stdin:\n",
    "    try:\n",
    "        count, word = line.strip().split('\\t', 1)\n",
    "        count = int(count)\n",
    "        print(\"{0}\\t{1}\".format(word, count))\n",
    "    except ValueError as e:\n",
    "        continue"
   ]
  },
  {
   "cell_type": "markdown",
   "metadata": {
    "colab_type": "text",
    "id": "4OBE81GZEOw8"
   },
   "source": [
    "## Step 3. Bash commands\n",
    "\n",
    "<b> Hint: </b> For printing the exact row you may use basic UNIX commands. For instance, sed/head/tail/... (if you know other commands, you can use them).\n",
    "\n",
    "To run both jobs, you must use two consecutive yarn-commands. Remember that the input for the second job is the ouput for the first job."
   ]
  },
  {
   "cell_type": "code",
   "execution_count": 6,
   "metadata": {
    "colab": {
     "autoexec": {
      "startup": false,
      "wait_interval": 0
     }
    },
    "colab_type": "code",
    "id": "1q9NczdIEOw9"
   },
   "outputs": [
    {
     "name": "stderr",
     "output_type": "stream",
     "text": [
      "rm: `assignment1_1535355835535125': No such file or directory\n",
      "18/08/27 07:43:58 INFO client.RMProxy: Connecting to ResourceManager at /0.0.0.0:8032\n",
      "18/08/27 07:43:59 INFO client.RMProxy: Connecting to ResourceManager at /0.0.0.0:8032\n",
      "18/08/27 07:44:00 INFO mapred.FileInputFormat: Total input files to process : 1\n",
      "18/08/27 07:44:00 INFO mapreduce.JobSubmitter: number of splits:2\n",
      "18/08/27 07:44:00 INFO mapreduce.JobSubmitter: Submitting tokens for job: job_1535348827156_0018\n",
      "18/08/27 07:44:00 INFO impl.YarnClientImpl: Submitted application application_1535348827156_0018\n",
      "18/08/27 07:44:00 INFO mapreduce.Job: The url to track the job: http://8546792f440a:8088/proxy/application_1535348827156_0018/\n",
      "18/08/27 07:44:00 INFO mapreduce.Job: Running job: job_1535348827156_0018\n",
      "18/08/27 07:44:06 INFO mapreduce.Job: Job job_1535348827156_0018 running in uber mode : false\n",
      "18/08/27 07:44:06 INFO mapreduce.Job:  map 0% reduce 0%\n",
      "18/08/27 07:44:22 INFO mapreduce.Job:  map 29% reduce 0%\n",
      "18/08/27 07:44:28 INFO mapreduce.Job:  map 44% reduce 0%\n",
      "18/08/27 07:44:34 INFO mapreduce.Job:  map 56% reduce 0%\n",
      "18/08/27 07:44:40 INFO mapreduce.Job:  map 67% reduce 0%\n",
      "18/08/27 07:44:43 INFO mapreduce.Job:  map 83% reduce 0%\n",
      "18/08/27 07:44:45 INFO mapreduce.Job:  map 100% reduce 0%\n",
      "18/08/27 07:44:51 INFO mapreduce.Job:  map 100% reduce 13%\n",
      "18/08/27 07:44:52 INFO mapreduce.Job:  map 100% reduce 25%\n",
      "18/08/27 07:44:54 INFO mapreduce.Job:  map 100% reduce 38%\n",
      "18/08/27 07:44:55 INFO mapreduce.Job:  map 100% reduce 75%\n",
      "18/08/27 07:44:58 INFO mapreduce.Job:  map 100% reduce 100%\n",
      "18/08/27 07:44:59 INFO mapreduce.Job: Job job_1535348827156_0018 completed successfully\n",
      "18/08/27 07:44:59 INFO mapreduce.Job: Counters: 51\n",
      "\tFile System Counters\n",
      "\t\tFILE: Number of bytes read=243475435\n",
      "\t\tFILE: Number of bytes written=366548450\n",
      "\t\tFILE: Number of read operations=0\n",
      "\t\tFILE: Number of large read operations=0\n",
      "\t\tFILE: Number of write operations=0\n",
      "\t\tHDFS: Number of bytes read=76874501\n",
      "\t\tHDFS: Number of bytes written=5370513\n",
      "\t\tHDFS: Number of read operations=30\n",
      "\t\tHDFS: Number of large read operations=0\n",
      "\t\tHDFS: Number of write operations=16\n",
      "\tJob Counters \n",
      "\t\tKilled reduce tasks=1\n",
      "\t\tLaunched map tasks=2\n",
      "\t\tLaunched reduce tasks=8\n",
      "\t\tData-local map tasks=2\n",
      "\t\tTotal time spent by all maps in occupied slots (ms)=72219\n",
      "\t\tTotal time spent by all reduces in occupied slots (ms)=49019\n",
      "\t\tTotal time spent by all map tasks (ms)=72219\n",
      "\t\tTotal time spent by all reduce tasks (ms)=49019\n",
      "\t\tTotal vcore-milliseconds taken by all map tasks=72219\n",
      "\t\tTotal vcore-milliseconds taken by all reduce tasks=49019\n",
      "\t\tTotal megabyte-milliseconds taken by all map tasks=73952256\n",
      "\t\tTotal megabyte-milliseconds taken by all reduce tasks=50195456\n",
      "\tMap-Reduce Framework\n",
      "\t\tMap input records=4100\n",
      "\t\tMap output records=11937375\n",
      "\t\tMap output bytes=97842436\n",
      "\t\tMap output materialized bytes=121717292\n",
      "\t\tInput split bytes=228\n",
      "\t\tCombine input records=0\n",
      "\t\tCombine output records=0\n",
      "\t\tReduce input groups=427176\n",
      "\t\tReduce shuffle bytes=121717292\n",
      "\t\tReduce input records=11937375\n",
      "\t\tReduce output records=427175\n",
      "\t\tSpilled Records=35812125\n",
      "\t\tShuffled Maps =16\n",
      "\t\tFailed Shuffles=0\n",
      "\t\tMerged Map outputs=16\n",
      "\t\tGC time elapsed (ms)=1472\n",
      "\t\tCPU time spent (ms)=163330\n",
      "\t\tPhysical memory (bytes) snapshot=2406252544\n",
      "\t\tVirtual memory (bytes) snapshot=20241494016\n",
      "\t\tTotal committed heap usage (bytes)=1577058304\n",
      "\tShuffle Errors\n",
      "\t\tBAD_ID=0\n",
      "\t\tCONNECTION=0\n",
      "\t\tIO_ERROR=0\n",
      "\t\tWRONG_LENGTH=0\n",
      "\t\tWRONG_MAP=0\n",
      "\t\tWRONG_REDUCE=0\n",
      "\tWiki stats\n",
      "\t\tTotal words=11937375\n",
      "\tFile Input Format Counters \n",
      "\t\tBytes Read=76874273\n",
      "\tFile Output Format Counters \n",
      "\t\tBytes Written=5370513\n",
      "18/08/27 07:44:59 INFO streaming.StreamJob: Output directory: assignment1_1535355835535125\n",
      "rm: `wordcount_final_1535355900214152': No such file or directory\n",
      "18/08/27 07:45:03 INFO client.RMProxy: Connecting to ResourceManager at /0.0.0.0:8032\n",
      "18/08/27 07:45:03 INFO client.RMProxy: Connecting to ResourceManager at /0.0.0.0:8032\n",
      "18/08/27 07:45:04 INFO mapred.FileInputFormat: Total input files to process : 8\n",
      "18/08/27 07:45:05 INFO mapreduce.JobSubmitter: number of splits:8\n",
      "18/08/27 07:45:05 INFO mapreduce.JobSubmitter: Submitting tokens for job: job_1535348827156_0019\n",
      "18/08/27 07:45:05 INFO impl.YarnClientImpl: Submitted application application_1535348827156_0019\n",
      "18/08/27 07:45:05 INFO mapreduce.Job: The url to track the job: http://8546792f440a:8088/proxy/application_1535348827156_0019/\n",
      "18/08/27 07:45:05 INFO mapreduce.Job: Running job: job_1535348827156_0019\n",
      "18/08/27 07:45:11 INFO mapreduce.Job: Job job_1535348827156_0019 running in uber mode : false\n",
      "18/08/27 07:45:11 INFO mapreduce.Job:  map 0% reduce 0%\n",
      "18/08/27 07:45:16 INFO mapreduce.Job:  map 75% reduce 0%\n",
      "18/08/27 07:45:19 INFO mapreduce.Job:  map 100% reduce 0%\n",
      "18/08/27 07:45:22 INFO mapreduce.Job:  map 100% reduce 100%\n",
      "18/08/27 07:45:23 INFO mapreduce.Job: Job job_1535348827156_0019 completed successfully\n",
      "18/08/27 07:45:23 INFO mapreduce.Job: Counters: 49\n",
      "\tFile System Counters\n",
      "\t\tFILE: Number of bytes read=6224888\n",
      "\t\tFILE: Number of bytes written=13710888\n",
      "\t\tFILE: Number of read operations=0\n",
      "\t\tFILE: Number of large read operations=0\n",
      "\t\tFILE: Number of write operations=0\n",
      "\t\tHDFS: Number of bytes read=5371513\n",
      "\t\tHDFS: Number of bytes written=5370513\n",
      "\t\tHDFS: Number of read operations=27\n",
      "\t\tHDFS: Number of large read operations=0\n",
      "\t\tHDFS: Number of write operations=2\n",
      "\tJob Counters \n",
      "\t\tLaunched map tasks=8\n",
      "\t\tLaunched reduce tasks=1\n",
      "\t\tData-local map tasks=8\n",
      "\t\tTotal time spent by all maps in occupied slots (ms)=23564\n",
      "\t\tTotal time spent by all reduces in occupied slots (ms)=3550\n",
      "\t\tTotal time spent by all map tasks (ms)=23564\n",
      "\t\tTotal time spent by all reduce tasks (ms)=3550\n",
      "\t\tTotal vcore-milliseconds taken by all map tasks=23564\n",
      "\t\tTotal vcore-milliseconds taken by all reduce tasks=3550\n",
      "\t\tTotal megabyte-milliseconds taken by all map tasks=24129536\n",
      "\t\tTotal megabyte-milliseconds taken by all reduce tasks=3635200\n",
      "\tMap-Reduce Framework\n",
      "\t\tMap input records=427175\n",
      "\t\tMap output records=427175\n",
      "\t\tMap output bytes=5370522\n",
      "\t\tMap output materialized bytes=6224930\n",
      "\t\tInput split bytes=1000\n",
      "\t\tCombine input records=0\n",
      "\t\tCombine output records=0\n",
      "\t\tReduce input groups=2075\n",
      "\t\tReduce shuffle bytes=6224930\n",
      "\t\tReduce input records=427175\n",
      "\t\tReduce output records=427175\n",
      "\t\tSpilled Records=854350\n",
      "\t\tShuffled Maps =8\n",
      "\t\tFailed Shuffles=0\n",
      "\t\tMerged Map outputs=8\n",
      "\t\tGC time elapsed (ms)=897\n",
      "\t\tCPU time spent (ms)=14380\n",
      "\t\tPhysical memory (bytes) snapshot=2550976512\n",
      "\t\tVirtual memory (bytes) snapshot=18101067776\n",
      "\t\tTotal committed heap usage (bytes)=1764229120\n",
      "\tShuffle Errors\n",
      "\t\tBAD_ID=0\n",
      "\t\tCONNECTION=0\n",
      "\t\tIO_ERROR=0\n",
      "\t\tWRONG_LENGTH=0\n",
      "\t\tWRONG_MAP=0\n",
      "\t\tWRONG_REDUCE=0\n",
      "\tFile Input Format Counters \n",
      "\t\tBytes Read=5370513\n",
      "\tFile Output Format Counters \n",
      "\t\tBytes Written=5370513\n",
      "18/08/27 07:45:23 INFO streaming.StreamJob: Output directory: wordcount_final_1535355900214152\n"
     ]
    }
   ],
   "source": [
    "%%bash\n",
    "\n",
    "OUT_DIR=\"assignment1_\"$(date +\"%s%6N\")\n",
    "NUM_REDUCERS=8\n",
    "\n",
    "# Code for your first job\n",
    "hdfs dfs -rm -r -skipTrash ${OUT_DIR} > /dev/null\n",
    "\n",
    "yarn jar /opt/cloudera/parcels/CDH/lib/hadoop-mapreduce/hadoop-streaming.jar \\\n",
    "    -D mapred.jab.name=\"Streaming wordCount\" \\\n",
    "    -D mapreduce.job.reduces=${NUM_REDUCERS} \\\n",
    "    -files mapper1.py,reducer1.py \\\n",
    "    -mapper \"python mapper1.py\" \\\n",
    "    -reducer \"python reducer1.py\" \\\n",
    "    -input /data/wiki/en_articles_part \\\n",
    "    -output ${OUT_DIR} > /dev/null\n",
    "\n",
    "# Code for your second job\n",
    "OUT_DIR_FINAL=\"wordcount_final_\"$(date +\"%s%6N\")\n",
    "NUM_REDUCERS=1\n",
    "\n",
    "hdfs dfs -rm -r -skipTrash ${OUT_DIR_FINAL} > /dev/null\n",
    "\n",
    "yarn jar /opt/cloudera/parcels/CDH/lib/hadoop-mapreduce/hadoop-streaming.jar \\\n",
    "    -D mapreduce.job.output.key.comparator.class=org.apache.hadoop.mapred.lib.KeyFieldBasedComparator \\\n",
    "    -D mapreduce.partition.keycomparator.options=-nr \\\n",
    "    -D mapred.jab.name=\"Streaming wordCount Rating\" \\\n",
    "    -D mapreduce.job.reduces=${NUM_REDUCERS} \\\n",
    "    -files reverse_mapper1.py,reverse_reducer1.py \\\n",
    "    -mapper \"python reverse_mapper1.py\" \\\n",
    "    -reducer \"python reverse_reducer1.py\" \\\n",
    "    -input ${OUT_DIR} \\\n",
    "    -output ${OUT_DIR_FINAL} > /dev/null\n",
    "    \n",
    "\n",
    "\n",
    "# Code for obtaining the results\n",
    "#hdfs dfs -cat ${OUT_DIR}/part-00000 | sed -n '7p;8q'\n",
    "\n",
    "#hdfs dfs -rm -r -skipTrash ${OUT_DIR}* > /dev/null"
   ]
  }
 ],
 "metadata": {
  "colab": {
   "collapsed_sections": [],
   "default_view": {},
   "name": "701_to_students.ipynb",
   "provenance": [],
   "version": "0.3.2",
   "views": {}
  },
  "kernelspec": {
   "display_name": "Python 2",
   "language": "python",
   "name": "python2"
  },
  "language_info": {
   "codemirror_mode": {
    "name": "ipython",
    "version": 2
   },
   "file_extension": ".py",
   "mimetype": "text/x-python",
   "name": "python",
   "nbconvert_exporter": "python",
   "pygments_lexer": "ipython2",
   "version": "2.7.12"
  }
 },
 "nbformat": 4,
 "nbformat_minor": 1
}
